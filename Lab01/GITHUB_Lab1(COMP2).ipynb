{
 "cells": [
  {
   "cell_type": "markdown",
   "metadata": {},
   "source": [
    "**Overview:** In this lab assignment, you will practice the design and use of Python classes to solve a specific computational task involving AIS vessel data."
   ]
  },
  {
   "cell_type": "markdown",
   "metadata": {},
   "source": [
    "**The Scenario:**  You are working on a research project that is trying to understand the behavior of ocean vessels in the South China Sea (SCS).  Specifically, you have been given a large data file containing **Automatic Identification System (AIS) data** from vessels traveling in the SCS over a one-month period.  You can read about the basics of AIS on Wikipedia: https://en.wikipedia.org/wiki/Automatic_identification_system.\n",
    "\n",
    "The data file is in comma separated value (CSV) format and has a header row indicating what is in each column.  Specification of the individual data fields is available from: https://www.navcen.uscg.gov/?pageName=AISMessagesAStatic.  The key identifier is the Maritime Mobile Service Identity (MMSI), a series of nine digits which are used to uniquely identify a ship.\n",
    "\n",
    "The name of the file is ``jul2015.csv`` and is downloadable from the Lab 1 page on Sakai."
   ]
  },
  {
   "cell_type": "markdown",
   "metadata": {},
   "source": [
    "**Your Task:**  Your task is to write Python code to read, parse, and analyze the AIS data in order to answer several questions.  A few important notes on this assignment:\n",
    "\n",
    "* This notebook contains all of the questions for this lab assignment.  \n",
    "\n",
    "\n",
    "* You will answer these questions by writing and executing your code **in this notebook**.  \n",
    "\n",
    "\n",
    "* There is a separate file ``oa3801_lab1.py`` that contains supporting code (Python classes and functions); some of this code is incomplete and will need to be finished by you.  Once completed, you will import this code into this notebook to answer these questions (more on this below).\n",
    "\n",
    "\n",
    "* The goal of this assignment is to give you practice writing and using Python objects.  **You may NOT use the Pandas library for this assignment.**\n",
    "\n",
    "\n",
    "As always, completing a complex task requires breaking things down into individual steps.  Accordingly, you should complete the following tasks."
   ]
  },
  {
   "cell_type": "markdown",
   "metadata": {},
   "source": [
    "**Task 0: Have a look at the data.**  The file ``jul2015.csv`` is big (~38MB).  Excel might have a little trouble with this one.  You can also try opening the file with a text editor.  If you are having trouble, consider installing a general editor like SublimeText ( https://www.sublimetext.com ) or Atom ( https://www.atom.io ).  Atom is free to download and install, but SublimeText requires a donation after a trial period. Both work on both Windows and Mac, and are fairly powerful.  It's important that you have an editor that can handle large files.  The choice of a text editor is often a personal preference, but both of these are good options (and there are others out there)."
   ]
  },
  {
   "cell_type": "markdown",
   "metadata": {},
   "source": [
    "**Task 1: Have a look at the starting code.**  The file ``oa3801_lab1.py``  contains definitions for two Python classes, along with some supporting functions.  \n",
    "\n",
    "\n",
    "* A ``Coordinate`` class used for representing lat/lon positions and calculating great circle distances between them.\n",
    "\n",
    "\n",
    "* A ``Vessel`` class used to store ship characteristics, along with a recorded sequence of AIS positions, known here as a *track*.\n",
    "\n",
    "\n",
    "Have a look at class definitions along with some of the additional functions defined.  Use the standalone notebook ``oa3801_lab1_supplement.ipynb`` to understand and practice use of these classes."
   ]
  },
  {
   "cell_type": "markdown",
   "metadata": {},
   "source": [
    "**Task 2: Write some code to parse the data in the csv file and store it in a dictionary of ships.** \n",
    "\n",
    "\n",
    "* Create an empty dictionary in which each key is a MMSI (type string) and the value will be the associated Vessel object\n",
    "\n",
    "\n",
    "* Open the csv file and read it line by line, parsing into individual fields.  For each line:\n",
    "\n",
    "  * Get the ship from the dictionary by its MMSI value.  If the associated ship does not exist in the dictionary, then create a new Vessel and add it.  \n",
    "  \n",
    "  * Add the corresponding position information to the track of that ship.\n",
    "\n",
    "\n",
    "* You ought to be able to populate the dictionary of ships and all of their corresponding track data *in a single pass through the csv data*!  (Reading through the data multiple times will be slooooow.  Why?)\n",
    "\n",
    "Use the following cells to complete this task."
   ]
  },
  {
   "cell_type": "code",
   "execution_count": 1,
   "metadata": {},
   "outputs": [],
   "source": [
    "import GITHUB_Lab01 as lab1\n",
    "from GITHUB_Lab01 import Coordinate\n",
    "from GITHUB_Lab01 import Vessel\n",
    "import datetime\n",
    "from tabulate import tabulate\n"
   ]
  },
  {
   "cell_type": "code",
   "execution_count": 2,
   "metadata": {},
   "outputs": [],
   "source": [
    "### PUT YOUR CODE HERE\n",
    "# hint: you will need to import the Vessel class\n",
    "\n",
    "\n",
    "def ships_dict(file):\n",
    "    f = open(file) # \n",
    "    f.readline() # This strips the first line of the code. \n",
    "    print('reading data from inputfile %s...' %  file) \n",
    "    vessels_dict = {} # This is the empty dict to feed my key value pairs\n",
    "\n",
    "    for nextline in f:\n",
    "    #     print (nextline)\n",
    "    #     print (nextline [0])\n",
    "        lineitems = nextline.strip().split(',') # The strip clears all blank characters\n",
    "\n",
    "        '''Naming all of the variables i within the excell file'''\n",
    "        MMSI = lineitems[2]\n",
    "        vessel_name = lineitems[1]\n",
    "        imo = lineitems[3]\n",
    "        callsign = lineitems[4]\n",
    "        vessel_type = lineitems[5]\n",
    "        length = lineitems[6]\n",
    "        lat = lineitems[7]\n",
    "        long = lineitems[8]\n",
    "        sog = lineitems[9]\n",
    "        cog = lineitems[10]\n",
    "        heading = lineitems[11]\n",
    "        time = lineitems[12] \n",
    "\n",
    "        '''Making my dictionary'''\n",
    "        if MMSI not in vessels_dict:\n",
    "            vessels_dict[MMSI] = Vessel(MMSI,vessel_name,vessel_type,length) # using the vessel class I can fill my dictionary making each value an object of information. \n",
    "        vessels_dict[MMSI].add_to_track(time,lat,long,callsign) # The track information needs to be outside the loop. '''need to recall why...'''\n",
    "    f.close() # This is the final part to opening a data file\n",
    "    \n",
    "    \n",
    "    \n",
    "#     for k, v in vessels_dict.items():\n",
    "#         print(k, v.track)\n",
    "    return vessels_dict # I need to be able to use the data. So i returned it\n",
    "\n",
    "\n"
   ]
  },
  {
   "cell_type": "code",
   "execution_count": 3,
   "metadata": {},
   "outputs": [
    {
     "name": "stdout",
     "output_type": "stream",
     "text": [
      "reading data from inputfile jul2015.csv...\n"
     ]
    }
   ],
   "source": [
    "v2 = ships_dict('jul2015.csv') # so i dont have to keep calling the function to access my data. I just assigned it to a variable.\n",
    "for MMSI, data in v2.items():\n",
    "    ip_timestamp, ip_coord = data.initial_position()\n",
    "    fp_timestamp, fp_coord = data.final_position()\n",
    "#     print(ip_coord,fp_coord)\n",
    "    \n",
    "    distance = ip_coord.calc_dist(fp_coord) \n",
    "#     print(distance)\n",
    "    time_delta = fp_timestamp - ip_timestamp\n",
    "    "
   ]
  },
  {
   "cell_type": "markdown",
   "metadata": {},
   "source": [
    "#### Good job.  Now use this to answer the following questions."
   ]
  },
  {
   "cell_type": "markdown",
   "metadata": {},
   "source": [
    "### Question 1: How many ships are in this data file? \n",
    "#### (Hint: use your dictionary)"
   ]
  },
  {
   "cell_type": "code",
   "execution_count": 4,
   "metadata": {},
   "outputs": [
    {
     "name": "stdout",
     "output_type": "stream",
     "text": [
      "There are 12578 ships in this data file.\n"
     ]
    }
   ],
   "source": [
    "'''The length of the track of the vessel'''\n",
    "print('There are %d ships in this data file.' % len(v2))"
   ]
  },
  {
   "cell_type": "markdown",
   "metadata": {},
   "source": [
    "#### Wow, that's a lot.  Fortunately, for the specific project you are working on, you are only interested in ships that have at least 1000 positions in their track data.\n",
    "\n",
    "### Question 2: How many ships have at least 1000 positions in their track data?  Print them out."
   ]
  },
  {
   "cell_type": "code",
   "execution_count": 5,
   "metadata": {},
   "outputs": [
    {
     "name": "stdout",
     "output_type": "stream",
     "text": [
      "\"600013035\"\n",
      "\"Lct 568\"\n",
      "\"Taiko\"\n",
      "\"Golden Star5\"\n",
      "\"Ferry Fukue\"\n",
      "\"Lct 18\"\n",
      "\n",
      "There are 6 ships with at least 1000 positions.\n"
     ]
    }
   ],
   "source": [
    "# def plus_ultra(dictionary):\n",
    "counter = 0\n",
    "vessel_1000_list = [] # I made a list so i can resure the ships for the other questions without having to reaccess the data from the huge dictionary. \n",
    "for keys, vessels in v2.items(): # This allows me to use both the keys and associated objects conjointly. \n",
    "    if len(vessels.track)>=1000:  # vessels.track gives me the positions\n",
    "#             print(keys)\n",
    "        print(vessels.name)\n",
    "        vessel_1000_list.append(vessels)\n",
    "        counter +=1 # counts the number of ships that is about 1000\n",
    "print('')\n",
    "print('There are %d ships with at least 1000 positions.' %counter)\n",
    "\n",
    "\n"
   ]
  },
  {
   "cell_type": "markdown",
   "metadata": {},
   "source": [
    "### Question 3: For these ships, what is their average speed?\n",
    "\n",
    "#### Here, we define \"average speed\" to be the distance between the initial position and the final position, divided by the interval of time between those two positions.  \n",
    "\n",
    "#### Hint: great circle calculation for distance between initial and final position.\n",
    "\n",
    "#### Another Hint: use datetime objects to calculate time intervals."
   ]
  },
  {
   "cell_type": "code",
   "execution_count": 6,
   "metadata": {},
   "outputs": [
    {
     "name": "stdout",
     "output_type": "stream",
     "text": [
      "\"600013035\" 0.00023693641151921645\n",
      "\"Lct 568\" 4.046703232766495e-05\n",
      "\"Taiko\" 5.962765922812879e-05\n",
      "\"Golden Star5\" 7.591348643908771e-07\n",
      "\"Ferry Fukue\" 2.1247029301991035e-05\n",
      "\"Lct 18\" 3.918681022443403e-06\n"
     ]
    }
   ],
   "source": [
    "'''For the ships with more than 1000 positions'''\n",
    "'''use the time deltas'''\n",
    "# print(v2['600013035'].track)\n",
    "i = 1 # This is for formatting purposes. \n",
    "for ships in vessel_1000_list:\n",
    "#     print(ships.name)\n",
    "    (date_time_initial ,coord_initial) = ships.initial_position()\n",
    "    (date_time_final, coord_final) = ships.final_position() # unpacking the final times and coords\n",
    "    distance_differential = coord_final.calc_dist(coord_initial)\n",
    "\n",
    "    time_delta = date_time_final - date_time_initial\n",
    "    time_delta_seconds = time_delta.total_seconds()\n",
    "    average_speed = distance_differential / time_delta_seconds\n",
    "    print(ships.name,average_speed)"
   ]
  },
  {
   "cell_type": "code",
   "execution_count": 7,
   "metadata": {},
   "outputs": [
    {
     "name": "stdout",
     "output_type": "stream",
     "text": [
      "1 ship name:\"600013035\", average speed:0.85297 nm/hour\n",
      "2 ship name:\"Lct 568\", average speed:0.14568 nm/hour\n",
      "3 ship name:\"Taiko\", average speed:0.21466 nm/hour\n",
      "4 ship name:\"Golden Star5\", average speed:0.00273 nm/hour\n",
      "5 ship name:\"Ferry Fukue\", average speed:0.07649 nm/hour\n",
      "6 ship name:\"Lct 18\", average speed:0.01411 nm/hour\n"
     ]
    }
   ],
   "source": [
    "'''For the ships with more than 1000 positions'''\n",
    "'''use the time deltas'''\n",
    "# print(v2['600013035'].track)\n",
    "i = 1 # This is for formatting purposes. \n",
    "for ships in vessel_1000_list:\n",
    "#     print(ships.name)\n",
    "    (date_time_initial ,coord_initial) = ships.initial_position()\n",
    "    (date_time_final, coord_final) = ships.final_position() # unpacking the final times and coords\n",
    "    distance_differential = coord_final.calc_dist(coord_initial)\n",
    "#     print(distance_differential)\n",
    "    time_delta = date_time_final - date_time_initial\n",
    "    time_delta_delta = time_delta.days *24 + time_delta.seconds/3600 # this converts the time into hours.\n",
    "    \n",
    "#     print(time_delta_delta)\n",
    "    average_speed = distance_differential / time_delta_delta\n",
    "    \n",
    "    print('%d ship name:%s, average speed:%.5f nm/hour'% (i,ships.name,average_speed))\n",
    "    i +=1"
   ]
  },
  {
   "cell_type": "markdown",
   "metadata": {},
   "source": [
    "#### This looks a bit suspicious.  Those great circle distances between initial position and final position are perhaps too small.\n",
    "\n",
    "#### Let's repeat the previous analysis, using the total track distance instead of the great circle distance.  To do this, we need to write another function."
   ]
  },
  {
   "cell_type": "markdown",
   "metadata": {},
   "source": [
    "### Question 4: Using the total track distance (instead) for these ships, calculate the correct average speed for each of these ships."
   ]
  },
  {
   "cell_type": "markdown",
   "metadata": {},
   "source": [
    "Specifically, we calculate the total distance as the sum of all distances between successive intervals (yes, we assume that ships traveled in straight lines between successive position readings).\n",
    "\n",
    "**Task 3:** The ``Vessel`` class has an incomplete method called ``total_track_distance``.  Complete this function, then use the block below to report the total track distance for each of these ships."
   ]
  },
  {
   "cell_type": "code",
   "execution_count": 8,
   "metadata": {
    "scrolled": true
   },
   "outputs": [],
   "source": [
    "def average_speed(vessel_1000_list):\n",
    "    k = 1 # This allows me to print int numbers. This is just for pictorial purposes\n",
    "    for ships_q4 in vessel_1000_list:\n",
    "#         print(len(ships_q4.track))\n",
    "        '''Unpacking the data data'''\n",
    "        (date_time_initial_q4 ,coord_initial) = ships_q4.initial_position()\n",
    "        (date_time_final_q4, coord_final) = ships_q4.final_position() # unpacking the final times and coords\n",
    "    \n",
    "        '''This is using the new total_track_distance'''\n",
    "        distance_q4 = ships_q4.total_track_distance()\n",
    "#         print(distance_q4)\n",
    "    \n",
    "        '''The time deltas'''\n",
    "        time_delta_q4 = date_time_final_q4 - date_time_initial_q4\n",
    "        time_delta_delta_q4 = time_delta_q4.days *24 + time_delta_q4.seconds/3600\n",
    "\n",
    "#         print(time_delta_delta)\n",
    "#         print('')\n",
    "        average_speed_q4 = distance_q4 / time_delta_delta_q4\n",
    "        print('%d ship name:%s, average speed:%.3f nm/hour'% (k,ships_q4.name,average_speed_q4))\n",
    "        k +=1  "
   ]
  },
  {
   "cell_type": "code",
   "execution_count": 9,
   "metadata": {},
   "outputs": [
    {
     "name": "stdout",
     "output_type": "stream",
     "text": [
      "1 ship name:\"600013035\", average speed:1.354 nm/hour\n",
      "2 ship name:\"Lct 568\", average speed:34.576 nm/hour\n",
      "3 ship name:\"Taiko\", average speed:5.298 nm/hour\n",
      "4 ship name:\"Golden Star5\", average speed:0.105 nm/hour\n",
      "5 ship name:\"Ferry Fukue\", average speed:5.864 nm/hour\n",
      "6 ship name:\"Lct 18\", average speed:1.413 nm/hour\n"
     ]
    }
   ],
   "source": [
    "average_speed(vessel_1000_list)"
   ]
  },
  {
   "cell_type": "markdown",
   "metadata": {},
   "source": [
    "#### Does anything else look suspicious here?  Use the next block to respond.  (Use words, not code, to answer the question.)\n"
   ]
  },
  {
   "cell_type": "markdown",
   "metadata": {},
   "source": [
    "**My Answer:** The first code that is written provides a much smaller average speed per hour. Since not every leg is taken into consideration in the first code the total distance is incomplete. Thus resulting in a smaller average speed. "
   ]
  },
  {
   "cell_type": "markdown",
   "metadata": {},
   "source": [
    "### Question 5: Consider all ships (not just those with more than 1000 pings). Are there any ships with multiple call signs?  Write some code to answer this question.  Have your code print out the total number of MMSIs that have multiple call signs, and for each of them print out the call signs."
   ]
  },
  {
   "cell_type": "code",
   "execution_count": 10,
   "metadata": {},
   "outputs": [],
   "source": [
    "def multiple_callsigns(vessel_dictionary):\n",
    "    '''Print out the ship with multiple call signs and what are the call signs'''\n",
    "    call_sign_dict = dict() # This way i can tired the ship to the different callsigns using the vessel object\n",
    "    call_sign_list = [] # This is to track the different callsign list\n",
    "    for (MMSI, vessel_obj) in v2.items(): # This tuple pulls both the key (MMSI) and vessel object from the ORIGINAL dict so I can use the data easier.\n",
    "    #     print(MMSI, stuff)\n",
    "        if MMSI not in call_sign_dict: # This is creats the new dict with MMSI as keys and the callsigns as vaules\n",
    "            call_sign_dict[MMSI] =  vessel_obj.call_signs\n",
    "        else:\n",
    "            call_sign_dict[MMSI].append(vessel_obj.call_signs) # the append feature will  accounts for the multiple callsigns.\n",
    "        if len(call_sign_dict[MMSI]) > 1: # This tells me how many ships have multiple callsigns. \n",
    "            call_sign_list.append(MMSI)\n",
    "#             print (vessel_obj.name, call_sign_dict[MMSI])\n",
    "    print('')\n",
    "    print('There are %d ship with multiple callsigns'%len(call_sign_list) )"
   ]
  },
  {
   "cell_type": "code",
   "execution_count": 11,
   "metadata": {},
   "outputs": [
    {
     "name": "stdout",
     "output_type": "stream",
     "text": [
      "\n",
      "There are 120 ship with multiple callsigns\n"
     ]
    }
   ],
   "source": [
    "multiple_callsigns(v2)"
   ]
  },
  {
   "cell_type": "markdown",
   "metadata": {},
   "source": [
    "### Question 6: Do any of these look suspicious to you?  \n",
    "#### How would you go about assessing whether each of these is a single vessel or multiple vessels?  \n",
    "#### How would your code need to change to support this analysis?\n",
    "#### (Type your answer below.  You do NOT have to implement this in code.)"
   ]
  },
  {
   "cell_type": "markdown",
   "metadata": {},
   "source": [
    "**My Answer:** The way my current code is written there are some ships that look like they have mulitple callsigns, but that is not the case. The empty quotes could mean that the turned off their transponder. To fix this i would just write a conditional to sure that the \"\" blocks are not taken into consideration with respect to the multiple callsigns. "
   ]
  },
  {
   "cell_type": "markdown",
   "metadata": {},
   "source": [
    "### For the last question, we need to complete an additional function in the ``Vessel`` class"
   ]
  },
  {
   "cell_type": "markdown",
   "metadata": {},
   "source": [
    "**Task 4:** The ``Vessel`` class has one more incomplete method, namely:\n",
    "\n",
    "\n",
    "* ``last_known_position`` : this function should return the most recent (timestamp, position) based on an argument, called the *request_time*. \n",
    "\n",
    "  * If ``request_time`` is before the initial timestamp for a vessel, return (``None``,`` None``).\n",
    "  * If after the final timestamp, return the final available (timestamp, position) .\n",
    "  * If the ``request_time`` is between the intial and final timestamp, then it should return the (timestamp, position) just prior to ``request_time``.  \n",
    "\n",
    "Complete this function, then answer Question 7..."
   ]
  },
  {
   "cell_type": "markdown",
   "metadata": {},
   "source": [
    "### Question 7: Two specific vessels, MMSI '548438100' and MMSI '600013035', are suspected of a rendezvous.  Based on the track data for each ship, what is the closest that they came to each other (and at what time)?\n",
    "\n",
    "#### Hint: Look at the track for SHIP1.  For each (time, position) entry in SHIP1's track, get the last_known_position for SHIP2 at that time, and calculate the distance.  Return the smallest of these, along with the time."
   ]
  },
  {
   "cell_type": "code",
   "execution_count": 12,
   "metadata": {},
   "outputs": [],
   "source": [
    "ship1 = v2['600013035']\n",
    "ship2 = v2['548438100']\n",
    "def rendezvous(ship1,ship2):\n",
    "    distance_list = [] # I am creating a list for the distances so i can sort and return the smallest time\n",
    "    \n",
    "    for ship1_time in ship1.track: #Ship1_time is a key of date.time types.\n",
    "        ship1_position = ship1.track[ship1_time] #this is ship1's position\n",
    "        (ship2_time, ship2_position) = ship2.last_known_position(ship1_time) #I am returing a tuple from my script. So I am pulling them and putting them into variables to reuse.\n",
    "       \n",
    "    \n",
    "        if isinstance(ship1_position,Coordinate) and isinstance(ship2_position, Coordinate): #I need this to ensure that I do not try to calculate the None types. I will get an error.\n",
    "            distance = (ship1_position.calc_dist(ship2_position))\n",
    "            distance_list.append((distance,ship1_time))\n",
    "    sorted_distance_list = sorted(distance_list)\n",
    "\n",
    "    return sorted_distance_list[0] #This return statement will return both the calculated smallest distance and time. "
   ]
  },
  {
   "cell_type": "code",
   "execution_count": null,
   "metadata": {},
   "outputs": [],
   "source": [
    "rendezvous(ship1,ship2)"
   ]
  },
  {
   "cell_type": "markdown",
   "metadata": {},
   "source": [
    "#### Does it matter which MMSI is SHIP1 and SHIP2?  Try it both ways.  What do you observe?  Why?  "
   ]
  },
  {
   "cell_type": "code",
   "execution_count": null,
   "metadata": {},
   "outputs": [],
   "source": [
    "rendezvous(ship2,ship1)\n",
    "#'''It does matter which MMSI is identified  as ship1 or ship 2. The data has is missing some track positions for certain time periods, and \n",
    "# that can be due to a ships' AIS transponder being turned off or faulty. '''"
   ]
  }
 ],
 "metadata": {
  "kernelspec": {
   "display_name": "Python 3",
   "language": "python",
   "name": "python3"
  },
  "language_info": {
   "codemirror_mode": {
    "name": "ipython",
    "version": 3
   },
   "file_extension": ".py",
   "mimetype": "text/x-python",
   "name": "python",
   "nbconvert_exporter": "python",
   "pygments_lexer": "ipython3",
   "version": "3.7.11"
  }
 },
 "nbformat": 4,
 "nbformat_minor": 2
}
